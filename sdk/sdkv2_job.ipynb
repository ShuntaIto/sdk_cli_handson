{
  "cells": [
    {
      "cell_type": "code",
      "execution_count": null,
      "metadata": {
        "gather": {
          "logged": 1681875752000
        }
      },
      "outputs": [],
      "source": [
        "from azure.ai.ml import MLClient\n",
        "from azure.identity import DefaultAzureCredential\n",
        "\n",
        "subscription_id = \"<subscription_id>\"\n",
        "resource_group = \"<resource_group_name>\"\n",
        "workspace = \"<workspace_name>\"\n",
        "\n",
        "ml_client = MLClient(\n",
        "    DefaultAzureCredential(),\n",
        "    subscription_id,\n",
        "    resource_group,\n",
        "    workspace,\n",
        ")"
      ]
    },
    {
      "cell_type": "code",
      "execution_count": null,
      "metadata": {
        "gather": {
          "logged": 1681875752086
        }
      },
      "outputs": [],
      "source": [
        "cpu_compute_target = \"cpu-cluster\"\n",
        "cpu_cluster = ml_client.compute.get(cpu_compute_target)"
      ]
    },
    {
      "cell_type": "code",
      "execution_count": null,
      "metadata": {
        "gather": {
          "logged": 1681875754999
        }
      },
      "outputs": [],
      "source": [
        "from azure.ai.ml.entities import Data\n",
        "from azure.ai.ml.constants import AssetTypes\n",
        "\n",
        "train_data_name = 'aml-sdk-handson-train-data'\n",
        "\n",
        "train_data = Data(\n",
        "    path='../data/nyc_taxi_dataset_train.csv',\n",
        "    type=AssetTypes.URI_FILE,\n",
        "    description=\"SDK v2 ハンズオンのための学習用データアセット\",\n",
        "    name=train_data_name,\n",
        ")\n",
        "\n",
        "train_data_asset = ml_client.data.create_or_update(train_data)\n",
        "\n",
        "valid_data_name = 'aml-sdk-handson-valid-data'\n",
        "\n",
        "valid_data = Data(\n",
        "    path='../data/nyc_taxi_dataset_valid.csv',\n",
        "    type=AssetTypes.URI_FILE,\n",
        "    description=\"SDK v2 ハンズオンのための検証用データアセット\",\n",
        "    name=valid_data_name,\n",
        ")\n",
        "\n",
        "valid_data_asset = ml_client.data.create_or_update(valid_data)"
      ]
    },
    {
      "cell_type": "code",
      "execution_count": null,
      "metadata": {
        "gather": {
          "logged": 1681875756008
        }
      },
      "outputs": [],
      "source": [
        "from azure.ai.ml.entities import Environment\n",
        "\n",
        "custom_env_name = \"aml-sdk-handson-sklearn\"\n",
        "\n",
        "env = Environment(\n",
        "    name=custom_env_name,\n",
        "    description=\"SDK v2 ハンズオンのための Environment\",\n",
        "    conda_file=\"../conda_env.yml\",\n",
        "    image=\"mcr.microsoft.com/azureml/openmpi4.1.0-ubuntu20.04:latest\",\n",
        ")\n",
        "\n",
        "environment_asset = ml_client.environments.create_or_update(env)"
      ]
    },
    {
      "cell_type": "code",
      "execution_count": null,
      "metadata": {
        "gather": {
          "logged": 1681878152032
        }
      },
      "outputs": [],
      "source": [
        "from azure.ai.ml import command, Input\n",
        "from azure.ai.ml.entities import CommandJobLimits\n",
        "\n",
        "job = command(\n",
        "    inputs={\n",
        "        \"train_data\": Input(type=AssetTypes.URI_FILE, path=f\"azureml:{train_data_name}:{train_data_asset.version}\"),\n",
        "        \"valid_data\": Input(type=AssetTypes.URI_FILE, path=f\"azureml:{valid_data_name}:{valid_data_asset.version}\"),\n",
        "    },\n",
        "    code=\"../script/\",\n",
        "    command=\"python build_model.py --input_train_data ${{inputs.train_data}} --input_valid_data ${{inputs.valid_data}}\",\n",
        "    environment=f\"{custom_env_name}:{environment_asset.version}\",\n",
        "    compute=cpu_compute_target,\n",
        "    experiment_name=\"aml-sdk-handson-sklearn-job\",\n",
        "    limits=CommandJobLimits(timeout=300)\n",
        ")"
      ]
    },
    {
      "cell_type": "code",
      "execution_count": null,
      "metadata": {
        "gather": {
          "logged": 1681878457036
        },
        "jupyter": {
          "outputs_hidden": false,
          "source_hidden": false
        },
        "nteract": {
          "transient": {
            "deleting": false
          }
        }
      },
      "outputs": [],
      "source": [
        "job = ml_client.create_or_update(job)\n",
        "ml_client.jobs.stream(job.name)"
      ]
    },
    {
      "cell_type": "code",
      "execution_count": null,
      "metadata": {
        "jupyter": {
          "outputs_hidden": false,
          "source_hidden": false
        },
        "nteract": {
          "transient": {
            "deleting": false
          }
        }
      },
      "outputs": [],
      "source": []
    }
  ],
  "metadata": {
    "kernel_info": {
      "name": "py310-sdk-handson"
    },
    "kernelspec": {
      "display_name": "py310-sdk-handson",
      "language": "python",
      "name": "py310-sdk-handson"
    },
    "language_info": {
      "codemirror_mode": {
        "name": "ipython",
        "version": 3
      },
      "file_extension": ".py",
      "mimetype": "text/x-python",
      "name": "python",
      "nbconvert_exporter": "python",
      "pygments_lexer": "ipython3",
      "version": "3.10.10"
    },
    "microsoft": {
      "host": {
        "AzureML": {
          "notebookHasBeenCompleted": true
        }
      }
    },
    "nteract": {
      "version": "nteract-front-end@1.0.0"
    }
  },
  "nbformat": 4,
  "nbformat_minor": 2
}
